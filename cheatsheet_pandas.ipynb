{
 "cells": [
  {
   "cell_type": "code",
   "execution_count": 2,
   "metadata": {
    "collapsed": true
   },
   "outputs": [],
   "source": [
    "import pandas as pd\n",
    "import numpy as np"
   ]
  },
  {
   "cell_type": "markdown",
   "metadata": {},
   "source": [
    "# Ways to create Dataframe objects"
   ]
  },
  {
   "cell_type": "markdown",
   "metadata": {},
   "source": [
    "## From Dict"
   ]
  },
  {
   "cell_type": "code",
   "execution_count": 109,
   "metadata": {},
   "outputs": [
    {
     "name": "stdout",
     "output_type": "stream",
     "text": [
      "      id  score\n",
      "0  00001      0\n",
      "1  00002      1\n",
      "2  00003      2\n",
      "3  00001      3\n"
     ]
    }
   ],
   "source": [
    "dict = {'id': ['00001', '00002', '00003', '00001'],\n",
    "       'score': range(4)}\n",
    "\n",
    "df1 = pd.DataFrame(dict)\n",
    "print(df1)"
   ]
  },
  {
   "cell_type": "markdown",
   "metadata": {},
   "source": [
    "## From list"
   ]
  },
  {
   "cell_type": "code",
   "execution_count": 21,
   "metadata": {},
   "outputs": [
    {
     "name": "stdout",
     "output_type": "stream",
     "text": [
      "      id  score\n",
      "0  00001      0\n",
      "1  00002      1\n",
      "2  00003      2\n",
      "3  00001      3\n"
     ]
    }
   ],
   "source": [
    "# need to convert a list to a dict\n",
    "list_1 = ['00001', '00002', '00003', '00001']\n",
    "list_2 = range(len(list_1))\n",
    "\n",
    "df2 = pd.DataFrame({'id': list_1, 'score': list_2})\n",
    "print(df2)"
   ]
  },
  {
   "cell_type": "markdown",
   "metadata": {},
   "source": [
    "## From Series "
   ]
  },
  {
   "cell_type": "code",
   "execution_count": 28,
   "metadata": {},
   "outputs": [
    {
     "name": "stdout",
     "output_type": "stream",
     "text": [
      "<class 'pandas.core.series.Series'>\n",
      "df3\n",
      "      id  score\n",
      "0  00001      0\n",
      "1  00002      1\n",
      "2  00003      2\n",
      "3  00001      3\n",
      "df4\n",
      "0    00001\n",
      "1    00002\n",
      "2    00003\n",
      "3    00001\n",
      "0        0\n",
      "1        1\n",
      "2        2\n",
      "3        3\n",
      "dtype: object\n"
     ]
    }
   ],
   "source": [
    "series_1 = df1['id']\n",
    "series_2 = df1['score']\n",
    "print(type(series_1))\n",
    "\n",
    "# use concat on axis = 1 (columns)\n",
    "df3 = pd.concat([series_1, series_2], axis = 1)\n",
    "print('df3')\n",
    "print(df3)\n",
    "\n",
    "# use concat on axis = 0 (rows)\n",
    "df4 = pd.concat([series_1, series_2], axis = 0)\n",
    "print('df4')\n",
    "print(df4)\n"
   ]
  },
  {
   "cell_type": "markdown",
   "metadata": {},
   "source": [
    "## From csv file"
   ]
  },
  {
   "cell_type": "code",
   "execution_count": 57,
   "metadata": {},
   "outputs": [
    {
     "name": "stdout",
     "output_type": "stream",
     "text": [
      "   Unnamed: 0  id  score\n",
      "0           0   1      0\n",
      "1           1   2      1\n",
      "2           2   3      2\n",
      "3           3   1      3\n"
     ]
    }
   ],
   "source": [
    "df1.to_csv('./data/data1.csv')\n",
    "\n",
    "# default method will ignore the leading zeros in id column\n",
    "df5 = pd.read_csv('./data/data1.csv')\n",
    "print(df5)"
   ]
  },
  {
   "cell_type": "code",
   "execution_count": 58,
   "metadata": {},
   "outputs": [
    {
     "name": "stdout",
     "output_type": "stream",
     "text": [
      "   Unnamed: 0     id  score\n",
      "0           0  00001      0\n",
      "1           1  00002      1\n",
      "2           2  00003      2\n",
      "3           3  00001      3\n"
     ]
    }
   ],
   "source": [
    "# use dtype arg to assgin object class to id column \n",
    "df6 = pd.read_csv('./data/data1.csv', dtype = {'id': object})\n",
    "print(df6)"
   ]
  },
  {
   "cell_type": "code",
   "execution_count": 59,
   "metadata": {},
   "outputs": [
    {
     "name": "stdout",
     "output_type": "stream",
     "text": [
      "      id  score\n",
      "0  00001      0\n",
      "1  00002      1\n",
      "2  00003      2\n",
      "3  00001      3\n"
     ]
    }
   ],
   "source": [
    "# ignore index \n",
    "df7 = pd.read_csv('./data/data1.csv', dtype = {'id': object}, index_col=0)\n",
    "print(df7)"
   ]
  },
  {
   "cell_type": "markdown",
   "metadata": {},
   "source": [
    "# Show data structures "
   ]
  },
  {
   "cell_type": "code",
   "execution_count": 60,
   "metadata": {},
   "outputs": [
    {
     "name": "stdout",
     "output_type": "stream",
     "text": [
      "id               <type 'str'>\n",
      "score    <type 'numpy.int64'>\n",
      "Name: 0, dtype: object\n"
     ]
    }
   ],
   "source": [
    "# show each column type\n",
    "print(df1.loc[0].apply(type))"
   ]
  },
  {
   "cell_type": "code",
   "execution_count": 71,
   "metadata": {},
   "outputs": [
    {
     "name": "stdout",
     "output_type": "stream",
     "text": [
      "((4, 2), 4, 2)\n"
     ]
    }
   ],
   "source": [
    "# show dimension\n",
    "print(df1.shape, df1.shape[0], df1.shape[1])\n"
   ]
  },
  {
   "cell_type": "code",
   "execution_count": 65,
   "metadata": {},
   "outputs": [
    {
     "name": "stdout",
     "output_type": "stream",
     "text": [
      "      id  score\n",
      "0  00001      0\n",
      "      id  score\n",
      "3  00001      3\n"
     ]
    }
   ],
   "source": [
    "# head, tail\n",
    "print(df1.head(1))\n",
    "print(df1.tail(1))"
   ]
  },
  {
   "cell_type": "code",
   "execution_count": 111,
   "metadata": {},
   "outputs": [
    {
     "name": "stdout",
     "output_type": "stream",
     "text": [
      "<class 'pandas.core.frame.DataFrame'>\n",
      "RangeIndex: 4 entries, 0 to 3\n",
      "Data columns (total 2 columns):\n",
      "id       4 non-null object\n",
      "score    4 non-null int64\n",
      "dtypes: int64(1), object(1)\n",
      "memory usage: 136.0+ bytes\n"
     ]
    }
   ],
   "source": [
    "# show memory usage. not very useful\n",
    "df1.info()"
   ]
  },
  {
   "cell_type": "code",
   "execution_count": 112,
   "metadata": {},
   "outputs": [
    {
     "data": {
      "text/html": [
       "<div>\n",
       "<style>\n",
       "    .dataframe thead tr:only-child th {\n",
       "        text-align: right;\n",
       "    }\n",
       "\n",
       "    .dataframe thead th {\n",
       "        text-align: left;\n",
       "    }\n",
       "\n",
       "    .dataframe tbody tr th {\n",
       "        vertical-align: top;\n",
       "    }\n",
       "</style>\n",
       "<table border=\"1\" class=\"dataframe\">\n",
       "  <thead>\n",
       "    <tr style=\"text-align: right;\">\n",
       "      <th></th>\n",
       "      <th>score</th>\n",
       "    </tr>\n",
       "  </thead>\n",
       "  <tbody>\n",
       "    <tr>\n",
       "      <th>count</th>\n",
       "      <td>4.000000</td>\n",
       "    </tr>\n",
       "    <tr>\n",
       "      <th>mean</th>\n",
       "      <td>1.500000</td>\n",
       "    </tr>\n",
       "    <tr>\n",
       "      <th>std</th>\n",
       "      <td>1.290994</td>\n",
       "    </tr>\n",
       "    <tr>\n",
       "      <th>min</th>\n",
       "      <td>0.000000</td>\n",
       "    </tr>\n",
       "    <tr>\n",
       "      <th>25%</th>\n",
       "      <td>0.750000</td>\n",
       "    </tr>\n",
       "    <tr>\n",
       "      <th>50%</th>\n",
       "      <td>1.500000</td>\n",
       "    </tr>\n",
       "    <tr>\n",
       "      <th>75%</th>\n",
       "      <td>2.250000</td>\n",
       "    </tr>\n",
       "    <tr>\n",
       "      <th>max</th>\n",
       "      <td>3.000000</td>\n",
       "    </tr>\n",
       "  </tbody>\n",
       "</table>\n",
       "</div>"
      ],
      "text/plain": [
       "          score\n",
       "count  4.000000\n",
       "mean   1.500000\n",
       "std    1.290994\n",
       "min    0.000000\n",
       "25%    0.750000\n",
       "50%    1.500000\n",
       "75%    2.250000\n",
       "max    3.000000"
      ]
     },
     "execution_count": 112,
     "metadata": {},
     "output_type": "execute_result"
    }
   ],
   "source": [
    "# show basic stats\n",
    "df1.describe()"
   ]
  },
  {
   "cell_type": "code",
   "execution_count": 117,
   "metadata": {},
   "outputs": [
    {
     "data": {
      "text/plain": [
       "['id', 'score']"
      ]
     },
     "execution_count": 117,
     "metadata": {},
     "output_type": "execute_result"
    }
   ],
   "source": [
    "# show column names\n",
    "# return a Index object, need to use tolist()\n",
    "df1.columns.tolist()"
   ]
  },
  {
   "cell_type": "markdown",
   "metadata": {},
   "source": [
    "# Modify a dataframe "
   ]
  },
  {
   "cell_type": "code",
   "execution_count": 103,
   "metadata": {},
   "outputs": [
    {
     "name": "stdout",
     "output_type": "stream",
     "text": [
      "      id  score\n",
      "0  00001      0\n",
      "1  00002      1\n",
      "2  00003      2\n",
      "3  00001      3\n",
      "RangeIndex(start=0, stop=4, step=1)\n",
      "       score\n",
      "id          \n",
      "00001      0\n",
      "00002      1\n",
      "00003      2\n",
      "00001      3\n",
      "Index([u'00001', u'00002', u'00003', u'00001'], dtype='object', name=u'id')\n",
      "      id  score\n",
      "0  00001      0\n",
      "1  00002      1\n",
      "2  00003      2\n",
      "3  00001      3\n",
      "RangeIndex(start=0, stop=4, step=1)\n"
     ]
    }
   ],
   "source": [
    "# print index\n",
    "df1.reset_index(inplace=True)\n",
    "print(df1)\n",
    "print(df1.index)\n",
    "\n",
    "# set index\n",
    "df1 = df1.set_index('id') #or\n",
    "# df1.set_index('id', inplace=True) \n",
    "print(df1)\n",
    "print(df1.index)\n",
    "\n",
    "# reset index\n",
    "df1 = df1.reset_index() #or\n",
    "# df1.reset_index(inplace=True)\n",
    "print(df1)\n",
    "print(df1.index)"
   ]
  },
  {
   "cell_type": "code",
   "execution_count": 83,
   "metadata": {},
   "outputs": [
    {
     "name": "stdout",
     "output_type": "stream",
     "text": [
      "      id  score    newcol\n",
      "0  00001      0  0.660166\n",
      "1  00002      1  0.811466\n",
      "2  00003      2  0.322833\n",
      "3  00001      3  0.938383\n"
     ]
    }
   ],
   "source": [
    "# add a column\n",
    "df1['newcol']=np.random.rand(df1.shape[0])\n",
    "print(df1)"
   ]
  },
  {
   "cell_type": "code",
   "execution_count": 84,
   "metadata": {},
   "outputs": [
    {
     "data": {
      "text/html": [
       "<div>\n",
       "<style>\n",
       "    .dataframe thead tr:only-child th {\n",
       "        text-align: right;\n",
       "    }\n",
       "\n",
       "    .dataframe thead th {\n",
       "        text-align: left;\n",
       "    }\n",
       "\n",
       "    .dataframe tbody tr th {\n",
       "        vertical-align: top;\n",
       "    }\n",
       "</style>\n",
       "<table border=\"1\" class=\"dataframe\">\n",
       "  <thead>\n",
       "    <tr style=\"text-align: right;\">\n",
       "      <th></th>\n",
       "      <th>id</th>\n",
       "      <th>score</th>\n",
       "    </tr>\n",
       "  </thead>\n",
       "  <tbody>\n",
       "    <tr>\n",
       "      <th>0</th>\n",
       "      <td>00001</td>\n",
       "      <td>0</td>\n",
       "    </tr>\n",
       "    <tr>\n",
       "      <th>1</th>\n",
       "      <td>00002</td>\n",
       "      <td>1</td>\n",
       "    </tr>\n",
       "    <tr>\n",
       "      <th>2</th>\n",
       "      <td>00003</td>\n",
       "      <td>2</td>\n",
       "    </tr>\n",
       "    <tr>\n",
       "      <th>3</th>\n",
       "      <td>00001</td>\n",
       "      <td>3</td>\n",
       "    </tr>\n",
       "  </tbody>\n",
       "</table>\n",
       "</div>"
      ],
      "text/plain": [
       "      id  score\n",
       "0  00001      0\n",
       "1  00002      1\n",
       "2  00003      2\n",
       "3  00001      3"
      ]
     },
     "execution_count": 84,
     "metadata": {},
     "output_type": "execute_result"
    }
   ],
   "source": [
    "# delete a column\n",
    "df1.drop('newcol', axis=1)"
   ]
  },
  {
   "cell_type": "code",
   "execution_count": 85,
   "metadata": {},
   "outputs": [
    {
     "name": "stdout",
     "output_type": "stream",
     "text": [
      "      id    newcol  score\n",
      "0  00001  0.660166      0\n",
      "1  00002  0.811466      1\n",
      "2  00003  0.322833      2\n",
      "3  00001  0.938383      3\n",
      "0  00001       NaN      0\n"
     ]
    }
   ],
   "source": [
    "# add a row\n",
    "df1 = df1.append(df2[:1])\n",
    "print(df1)"
   ]
  },
  {
   "cell_type": "code",
   "execution_count": 108,
   "metadata": {},
   "outputs": [
    {
     "data": {
      "text/html": [
       "<div>\n",
       "<style>\n",
       "    .dataframe thead tr:only-child th {\n",
       "        text-align: right;\n",
       "    }\n",
       "\n",
       "    .dataframe thead th {\n",
       "        text-align: left;\n",
       "    }\n",
       "\n",
       "    .dataframe tbody tr th {\n",
       "        vertical-align: top;\n",
       "    }\n",
       "</style>\n",
       "<table border=\"1\" class=\"dataframe\">\n",
       "  <thead>\n",
       "    <tr style=\"text-align: right;\">\n",
       "      <th></th>\n",
       "      <th>id</th>\n",
       "      <th>score</th>\n",
       "    </tr>\n",
       "  </thead>\n",
       "  <tbody>\n",
       "    <tr>\n",
       "      <th>0</th>\n",
       "      <td>00001</td>\n",
       "      <td>0</td>\n",
       "    </tr>\n",
       "    <tr>\n",
       "      <th>1</th>\n",
       "      <td>00002</td>\n",
       "      <td>1</td>\n",
       "    </tr>\n",
       "    <tr>\n",
       "      <th>3</th>\n",
       "      <td>00001</td>\n",
       "      <td>3</td>\n",
       "    </tr>\n",
       "  </tbody>\n",
       "</table>\n",
       "</div>"
      ],
      "text/plain": [
       "      id  score\n",
       "0  00001      0\n",
       "1  00002      1\n",
       "3  00001      3"
      ]
     },
     "execution_count": 108,
     "metadata": {},
     "output_type": "execute_result"
    }
   ],
   "source": [
    "# drop a row\n",
    "df1.drop(2, axis=0)"
   ]
  },
  {
   "cell_type": "code",
   "execution_count": 120,
   "metadata": {},
   "outputs": [
    {
     "data": {
      "text/html": [
       "<div>\n",
       "<style>\n",
       "    .dataframe thead tr:only-child th {\n",
       "        text-align: right;\n",
       "    }\n",
       "\n",
       "    .dataframe thead th {\n",
       "        text-align: left;\n",
       "    }\n",
       "\n",
       "    .dataframe tbody tr th {\n",
       "        vertical-align: top;\n",
       "    }\n",
       "</style>\n",
       "<table border=\"1\" class=\"dataframe\">\n",
       "  <thead>\n",
       "    <tr style=\"text-align: right;\">\n",
       "      <th></th>\n",
       "      <th>ID</th>\n",
       "      <th>SCORE</th>\n",
       "    </tr>\n",
       "  </thead>\n",
       "  <tbody>\n",
       "    <tr>\n",
       "      <th>0</th>\n",
       "      <td>00001</td>\n",
       "      <td>0</td>\n",
       "    </tr>\n",
       "    <tr>\n",
       "      <th>1</th>\n",
       "      <td>00002</td>\n",
       "      <td>1</td>\n",
       "    </tr>\n",
       "    <tr>\n",
       "      <th>2</th>\n",
       "      <td>00003</td>\n",
       "      <td>2</td>\n",
       "    </tr>\n",
       "    <tr>\n",
       "      <th>3</th>\n",
       "      <td>00001</td>\n",
       "      <td>3</td>\n",
       "    </tr>\n",
       "  </tbody>\n",
       "</table>\n",
       "</div>"
      ],
      "text/plain": [
       "      ID  SCORE\n",
       "0  00001      0\n",
       "1  00002      1\n",
       "2  00003      2\n",
       "3  00001      3"
      ]
     },
     "execution_count": 120,
     "metadata": {},
     "output_type": "execute_result"
    }
   ],
   "source": [
    "# rename a column\n",
    "df1.rename(columns={'id':'ID', 'score':'SCORE'})"
   ]
  },
  {
   "cell_type": "code",
   "execution_count": 256,
   "metadata": {},
   "outputs": [
    {
     "name": "stdout",
     "output_type": "stream",
     "text": [
      "<class 'pandas.core.frame.DataFrame'>\n",
      "RangeIndex: 4 entries, 0 to 3\n",
      "Data columns (total 2 columns):\n",
      "id       4 non-null object\n",
      "score    4 non-null int64\n",
      "dtypes: int64(1), object(1)\n",
      "memory usage: 136.0+ bytes\n",
      "None\n",
      "<class 'pandas.core.frame.DataFrame'>\n",
      "RangeIndex: 4 entries, 0 to 3\n",
      "Data columns (total 2 columns):\n",
      "id       4 non-null object\n",
      "score    4 non-null object\n",
      "dtypes: object(2)\n",
      "memory usage: 136.0+ bytes\n",
      "None\n"
     ]
    }
   ],
   "source": [
    "df1 = pd.DataFrame({'id': ['00001', '00002', '00003', '00001'],\n",
    "       'score': range(4)})\n",
    "print(df1.info())\n",
    "\n",
    "df1.score = df1.score.astype('object')\n",
    "print(df1.info())"
   ]
  },
  {
   "cell_type": "markdown",
   "metadata": {},
   "source": [
    "# Selection and Filter"
   ]
  },
  {
   "cell_type": "code",
   "execution_count": 144,
   "metadata": {},
   "outputs": [
    {
     "name": "stdout",
     "output_type": "stream",
     "text": [
      "id       00001\n",
      "score        0\n",
      "Name: 0, dtype: object\n",
      "      id  score\n",
      "0  00001      0\n",
      "1  00002      1\n"
     ]
    }
   ],
   "source": [
    "# select a row by position using .iloc\n",
    "print(df2.iloc[0])\n",
    "print(df2.iloc[0:2,])"
   ]
  },
  {
   "cell_type": "code",
   "execution_count": 142,
   "metadata": {},
   "outputs": [
    {
     "name": "stdout",
     "output_type": "stream",
     "text": [
      "       score\n",
      "id          \n",
      "00001      0\n",
      "00001      3\n"
     ]
    }
   ],
   "source": [
    "# select a row by index using .loc\n",
    "df2 = df2.reset_index()\n",
    "df2 = df2.set_index('id')\n",
    "print(df2.loc['00001'])\n",
    "df2 = df2.reset_index()"
   ]
  },
  {
   "cell_type": "code",
   "execution_count": 171,
   "metadata": {},
   "outputs": [
    {
     "name": "stdout",
     "output_type": "stream",
     "text": [
      "      id  score\n",
      "0  00001      0\n",
      "1  00002      1\n",
      "2  00003      2\n",
      "3  00001      3\n",
      "0    00001\n",
      "1    00002\n",
      "2    00003\n",
      "3    00001\n",
      "Name: id, dtype: object\n"
     ]
    }
   ],
   "source": [
    "# select columns by name\n",
    "print(df2[['id', 'score']])\n",
    "\n",
    "# select one column by name\n",
    "print(df2.id)"
   ]
  },
  {
   "cell_type": "code",
   "execution_count": 160,
   "metadata": {},
   "outputs": [
    {
     "data": {
      "text/html": [
       "<div>\n",
       "<style>\n",
       "    .dataframe thead tr:only-child th {\n",
       "        text-align: right;\n",
       "    }\n",
       "\n",
       "    .dataframe thead th {\n",
       "        text-align: left;\n",
       "    }\n",
       "\n",
       "    .dataframe tbody tr th {\n",
       "        vertical-align: top;\n",
       "    }\n",
       "</style>\n",
       "<table border=\"1\" class=\"dataframe\">\n",
       "  <thead>\n",
       "    <tr style=\"text-align: right;\">\n",
       "      <th></th>\n",
       "      <th>id</th>\n",
       "    </tr>\n",
       "  </thead>\n",
       "  <tbody>\n",
       "    <tr>\n",
       "      <th>0</th>\n",
       "      <td>00001</td>\n",
       "    </tr>\n",
       "    <tr>\n",
       "      <th>1</th>\n",
       "      <td>00002</td>\n",
       "    </tr>\n",
       "    <tr>\n",
       "      <th>2</th>\n",
       "      <td>00003</td>\n",
       "    </tr>\n",
       "    <tr>\n",
       "      <th>3</th>\n",
       "      <td>00001</td>\n",
       "    </tr>\n",
       "  </tbody>\n",
       "</table>\n",
       "</div>"
      ],
      "text/plain": [
       "      id\n",
       "0  00001\n",
       "1  00002\n",
       "2  00003\n",
       "3  00001"
      ]
     },
     "execution_count": 160,
     "metadata": {},
     "output_type": "execute_result"
    }
   ],
   "source": [
    "# select a column by position\n",
    "df2.iloc[:, 0:1]"
   ]
  },
  {
   "cell_type": "code",
   "execution_count": 161,
   "metadata": {},
   "outputs": [
    {
     "data": {
      "text/html": [
       "<div>\n",
       "<style>\n",
       "    .dataframe thead tr:only-child th {\n",
       "        text-align: right;\n",
       "    }\n",
       "\n",
       "    .dataframe thead th {\n",
       "        text-align: left;\n",
       "    }\n",
       "\n",
       "    .dataframe tbody tr th {\n",
       "        vertical-align: top;\n",
       "    }\n",
       "</style>\n",
       "<table border=\"1\" class=\"dataframe\">\n",
       "  <thead>\n",
       "    <tr style=\"text-align: right;\">\n",
       "      <th></th>\n",
       "      <th>id</th>\n",
       "    </tr>\n",
       "  </thead>\n",
       "  <tbody>\n",
       "    <tr>\n",
       "      <th>1</th>\n",
       "      <td>00002</td>\n",
       "    </tr>\n",
       "    <tr>\n",
       "      <th>2</th>\n",
       "      <td>00003</td>\n",
       "    </tr>\n",
       "  </tbody>\n",
       "</table>\n",
       "</div>"
      ],
      "text/plain": [
       "      id\n",
       "1  00002\n",
       "2  00003"
      ]
     },
     "execution_count": 161,
     "metadata": {},
     "output_type": "execute_result"
    }
   ],
   "source": [
    "# select a cell by position\n",
    "df2.iloc[1:3, 0:1]"
   ]
  },
  {
   "cell_type": "code",
   "execution_count": 327,
   "metadata": {},
   "outputs": [
    {
     "name": "stdout",
     "output_type": "stream",
     "text": [
      "      id  score\n",
      "3  00001      3\n",
      "      id  score\n",
      "0  00001      0\n",
      "1  00002      1\n",
      "3  00001      3\n"
     ]
    }
   ],
   "source": [
    "# filter by conditions\n",
    "# each condition needs to be grouped by ()\n",
    "print(df2[(df2.id == '00001') & (df2.score == 3)])\n",
    "\n",
    "print(df2[df2.id.isin(['00001', '00002'])])"
   ]
  },
  {
   "cell_type": "markdown",
   "metadata": {},
   "source": [
    "# Sort "
   ]
  },
  {
   "cell_type": "code",
   "execution_count": 126,
   "metadata": {},
   "outputs": [
    {
     "data": {
      "text/html": [
       "<div>\n",
       "<style>\n",
       "    .dataframe thead tr:only-child th {\n",
       "        text-align: right;\n",
       "    }\n",
       "\n",
       "    .dataframe thead th {\n",
       "        text-align: left;\n",
       "    }\n",
       "\n",
       "    .dataframe tbody tr th {\n",
       "        vertical-align: top;\n",
       "    }\n",
       "</style>\n",
       "<table border=\"1\" class=\"dataframe\">\n",
       "  <thead>\n",
       "    <tr style=\"text-align: right;\">\n",
       "      <th></th>\n",
       "      <th>id</th>\n",
       "      <th>score</th>\n",
       "    </tr>\n",
       "  </thead>\n",
       "  <tbody>\n",
       "    <tr>\n",
       "      <th>3</th>\n",
       "      <td>00001</td>\n",
       "      <td>3</td>\n",
       "    </tr>\n",
       "    <tr>\n",
       "      <th>0</th>\n",
       "      <td>00001</td>\n",
       "      <td>0</td>\n",
       "    </tr>\n",
       "    <tr>\n",
       "      <th>1</th>\n",
       "      <td>00002</td>\n",
       "      <td>1</td>\n",
       "    </tr>\n",
       "    <tr>\n",
       "      <th>2</th>\n",
       "      <td>00003</td>\n",
       "      <td>2</td>\n",
       "    </tr>\n",
       "  </tbody>\n",
       "</table>\n",
       "</div>"
      ],
      "text/plain": [
       "      id  score\n",
       "3  00001      3\n",
       "0  00001      0\n",
       "1  00002      1\n",
       "2  00003      2"
      ]
     },
     "execution_count": 126,
     "metadata": {},
     "output_type": "execute_result"
    }
   ],
   "source": [
    "# sort by value\n",
    "df2.sort_values(['id', 'score'], ascending=[True, False])"
   ]
  },
  {
   "cell_type": "code",
   "execution_count": 127,
   "metadata": {},
   "outputs": [
    {
     "data": {
      "text/html": [
       "<div>\n",
       "<style>\n",
       "    .dataframe thead tr:only-child th {\n",
       "        text-align: right;\n",
       "    }\n",
       "\n",
       "    .dataframe thead th {\n",
       "        text-align: left;\n",
       "    }\n",
       "\n",
       "    .dataframe tbody tr th {\n",
       "        vertical-align: top;\n",
       "    }\n",
       "</style>\n",
       "<table border=\"1\" class=\"dataframe\">\n",
       "  <thead>\n",
       "    <tr style=\"text-align: right;\">\n",
       "      <th></th>\n",
       "      <th>id</th>\n",
       "      <th>score</th>\n",
       "    </tr>\n",
       "  </thead>\n",
       "  <tbody>\n",
       "    <tr>\n",
       "      <th>3</th>\n",
       "      <td>00001</td>\n",
       "      <td>3</td>\n",
       "    </tr>\n",
       "    <tr>\n",
       "      <th>2</th>\n",
       "      <td>00003</td>\n",
       "      <td>2</td>\n",
       "    </tr>\n",
       "    <tr>\n",
       "      <th>1</th>\n",
       "      <td>00002</td>\n",
       "      <td>1</td>\n",
       "    </tr>\n",
       "    <tr>\n",
       "      <th>0</th>\n",
       "      <td>00001</td>\n",
       "      <td>0</td>\n",
       "    </tr>\n",
       "  </tbody>\n",
       "</table>\n",
       "</div>"
      ],
      "text/plain": [
       "      id  score\n",
       "3  00001      3\n",
       "2  00003      2\n",
       "1  00002      1\n",
       "0  00001      0"
      ]
     },
     "execution_count": 127,
     "metadata": {},
     "output_type": "execute_result"
    }
   ],
   "source": [
    "# sort by index\n",
    "df2.sort_index(ascending=False)"
   ]
  },
  {
   "cell_type": "markdown",
   "metadata": {},
   "source": [
    "# Join / Append "
   ]
  },
  {
   "cell_type": "code",
   "execution_count": 344,
   "metadata": {},
   "outputs": [
    {
     "name": "stdout",
     "output_type": "stream",
     "text": [
      "       col1      col2       date ticker1\n",
      "0  0.546507  0.177778 2016-07-25       A\n",
      "1  0.006330  0.874593 2016-07-26       A\n",
      "2  0.987661  0.359606 2016-07-27       A\n",
      "3  0.350662  0.400968 2016-07-28       A\n",
      "4  0.276316  0.284779 2016-07-29       A\n",
      "5  0.665116  0.224429 2016-07-25       B\n",
      "6  0.294140  0.263149 2016-07-26       B\n",
      "7  0.258808  0.087036 2016-07-27       B\n",
      "8  0.049309  0.088257 2016-07-28       B\n",
      "9  0.391354  0.101544 2016-07-29       B\n",
      "       col3      col4       date ticker2\n",
      "0  0.033081  0.042507 2016-07-23       B\n",
      "1  0.324510  0.145926 2016-07-24       B\n",
      "2  0.833421  0.458434 2016-07-25       B\n",
      "3  0.200250  0.688753 2016-07-26       B\n",
      "4  0.542913  0.338160 2016-07-27       B\n",
      "5  0.027381  0.079002 2016-07-23       C\n",
      "6  0.568208  0.471911 2016-07-24       C\n",
      "7  0.860888  0.270131 2016-07-25       C\n",
      "8  0.200522  0.538169 2016-07-26       C\n",
      "9  0.563490  0.131722 2016-07-27       C\n",
      "\n",
      "\n",
      "left join on same columns\n",
      "        col1      col2       date ticker1      col3      col4 ticker2\n",
      "0   0.546507  0.177778 2016-07-25       A  0.833421  0.458434       B\n",
      "1   0.546507  0.177778 2016-07-25       A  0.860888  0.270131       C\n",
      "2   0.006330  0.874593 2016-07-26       A  0.200250  0.688753       B\n",
      "3   0.006330  0.874593 2016-07-26       A  0.200522  0.538169       C\n",
      "4   0.987661  0.359606 2016-07-27       A  0.542913  0.338160       B\n",
      "5   0.987661  0.359606 2016-07-27       A  0.563490  0.131722       C\n",
      "6   0.350662  0.400968 2016-07-28       A       NaN       NaN     NaN\n",
      "7   0.276316  0.284779 2016-07-29       A       NaN       NaN     NaN\n",
      "8   0.665116  0.224429 2016-07-25       B  0.833421  0.458434       B\n",
      "9   0.665116  0.224429 2016-07-25       B  0.860888  0.270131       C\n",
      "10  0.294140  0.263149 2016-07-26       B  0.200250  0.688753       B\n",
      "11  0.294140  0.263149 2016-07-26       B  0.200522  0.538169       C\n",
      "12  0.258808  0.087036 2016-07-27       B  0.542913  0.338160       B\n",
      "13  0.258808  0.087036 2016-07-27       B  0.563490  0.131722       C\n",
      "14  0.049309  0.088257 2016-07-28       B       NaN       NaN     NaN\n",
      "15  0.391354  0.101544 2016-07-29       B       NaN       NaN     NaN\n",
      "\n",
      "\n",
      "left join on different columns\n",
      "       col1      col2       date ticker1      col3      col4 ticker2\n",
      "0  0.546507  0.177778 2016-07-25       A       NaN       NaN     NaN\n",
      "1  0.006330  0.874593 2016-07-26       A       NaN       NaN     NaN\n",
      "2  0.987661  0.359606 2016-07-27       A       NaN       NaN     NaN\n",
      "3  0.350662  0.400968 2016-07-28       A       NaN       NaN     NaN\n",
      "4  0.276316  0.284779 2016-07-29       A       NaN       NaN     NaN\n",
      "5  0.665116  0.224429 2016-07-25       B  0.833421  0.458434       B\n",
      "6  0.294140  0.263149 2016-07-26       B  0.200250  0.688753       B\n",
      "7  0.258808  0.087036 2016-07-27       B  0.542913  0.338160       B\n",
      "8  0.049309  0.088257 2016-07-28       B       NaN       NaN     NaN\n",
      "9  0.391354  0.101544 2016-07-29       B       NaN       NaN     NaN\n",
      "\n",
      "\n",
      "inner join\n",
      "       col1      col2       date ticker1      col3      col4 ticker2\n",
      "0  0.665116  0.224429 2016-07-25       B  0.833421  0.458434       B\n",
      "1  0.294140  0.263149 2016-07-26       B  0.200250  0.688753       B\n",
      "2  0.258808  0.087036 2016-07-27       B  0.542913  0.338160       B\n"
     ]
    }
   ],
   "source": [
    "# left, right, inner joins\n",
    "df_j1 = pd.DataFrame({'date': pd.date_range('2016/07/25', periods=5).tolist() * 2\n",
    "                  , 'ticker1': ['A']*5 + ['B']*5\n",
    "                  , 'col1': np.random.rand(10)\n",
    "                  , 'col2': np.random.rand(10)})\n",
    "df_j2 = pd.DataFrame({'date': pd.date_range('2016/07/23', periods=5).tolist() * 2\n",
    "                  , 'ticker2': ['B']*5 + ['C']*5\n",
    "                  , 'col3': np.random.rand(10)\n",
    "                  , 'col4': np.random.rand(10)})\n",
    "print(df_j1)\n",
    "print(df_j2)\n",
    "\n",
    "print('\\n\\nleft join on same columns')\n",
    "print(pd.merge(df_j1, df_j2, on = 'date', how='left'))\n",
    "print('\\n\\nleft join on different columns')\n",
    "print(pd.merge(df_j1, df_j2, left_on = ['date', 'ticker1'], right_on=['date', 'ticker2'], how='left'))\n",
    "print('\\n\\ninner join')\n",
    "print(pd.merge(df_j1, df_j2, left_on = ['date', 'ticker1'], right_on=['date', 'ticker2'], how='inner'))"
   ]
  },
  {
   "cell_type": "code",
   "execution_count": 341,
   "metadata": {},
   "outputs": [
    {
     "name": "stdout",
     "output_type": "stream",
     "text": [
      "        col1      col2       date ticker1      col3      col4 ticker2\n",
      "0   0.677538  0.068540 2016-07-25       A       NaN       NaN     NaN\n",
      "1   0.696433  0.382627 2016-07-26       A       NaN       NaN     NaN\n",
      "2   0.938623  0.666231 2016-07-27       A       NaN       NaN     NaN\n",
      "3   0.409053  0.728368 2016-07-28       A       NaN       NaN     NaN\n",
      "4   0.020624  0.661935 2016-07-29       A       NaN       NaN     NaN\n",
      "5   0.273285  0.777023 2016-07-25       B  0.385513  0.065311       B\n",
      "6   0.438460  0.393199 2016-07-26       B  0.227504  0.733994       B\n",
      "7   0.472115  0.062613 2016-07-27       B  0.282193  0.949860       B\n",
      "8   0.313201  0.869183 2016-07-28       B       NaN       NaN     NaN\n",
      "9   0.275836  0.615696 2016-07-29       B       NaN       NaN     NaN\n",
      "10       NaN       NaN 2016-07-23     NaN  0.409867  0.921028       B\n",
      "11       NaN       NaN 2016-07-24     NaN  0.016382  0.527965       B\n",
      "12       NaN       NaN 2016-07-23     NaN  0.932429  0.456770       C\n",
      "13       NaN       NaN 2016-07-24     NaN  0.957129  0.561273       C\n",
      "14       NaN       NaN 2016-07-25     NaN  0.692604  0.340002       C\n",
      "15       NaN       NaN 2016-07-26     NaN  0.842949  0.405595       C\n",
      "16       NaN       NaN 2016-07-27     NaN  0.548610  0.816791       C\n"
     ]
    }
   ],
   "source": [
    "# outer join\n",
    "print(pd.merge(df_j1, df_j2, left_on = ['date', 'ticker1'], right_on=['date', 'ticker2'], how='outer'))"
   ]
  },
  {
   "cell_type": "code",
   "execution_count": 358,
   "metadata": {},
   "outputs": [
    {
     "name": "stdout",
     "output_type": "stream",
     "text": [
      "   ticker1     date_x     date_y\n",
      "0        B 2016-07-25 2016-07-23\n",
      "1        B 2016-07-25 2016-07-24\n",
      "5        B 2016-07-26 2016-07-23\n",
      "6        B 2016-07-26 2016-07-24\n",
      "7        B 2016-07-26 2016-07-25\n",
      "10       B 2016-07-27 2016-07-23\n",
      "11       B 2016-07-27 2016-07-24\n",
      "12       B 2016-07-27 2016-07-25\n",
      "13       B 2016-07-27 2016-07-26\n",
      "15       B 2016-07-28 2016-07-23\n",
      "16       B 2016-07-28 2016-07-24\n",
      "17       B 2016-07-28 2016-07-25\n",
      "18       B 2016-07-28 2016-07-26\n",
      "19       B 2016-07-28 2016-07-27\n",
      "20       B 2016-07-29 2016-07-23\n",
      "21       B 2016-07-29 2016-07-24\n",
      "22       B 2016-07-29 2016-07-25\n",
      "23       B 2016-07-29 2016-07-26\n",
      "24       B 2016-07-29 2016-07-27\n"
     ]
    }
   ],
   "source": [
    "# non-equal join\n",
    "# need to do a cross join + filter\n",
    "df_j1['dummy'] = 1\n",
    "df_j2['dummy'] = 1\n",
    "\n",
    "df_cross = pd.merge(df_j1, df_j2, left_on=['ticker1', 'dummy'], right_on=['ticker2', 'dummy'])\n",
    "print(df_cross[(df_cross.date_x > df_cross.date_y)][['ticker1', 'date_x', 'date_y']])"
   ]
  },
  {
   "cell_type": "code",
   "execution_count": 62,
   "metadata": {},
   "outputs": [
    {
     "data": {
      "text/html": [
       "<div>\n",
       "<style>\n",
       "    .dataframe thead tr:only-child th {\n",
       "        text-align: right;\n",
       "    }\n",
       "\n",
       "    .dataframe thead th {\n",
       "        text-align: left;\n",
       "    }\n",
       "\n",
       "    .dataframe tbody tr th {\n",
       "        vertical-align: top;\n",
       "    }\n",
       "</style>\n",
       "<table border=\"1\" class=\"dataframe\">\n",
       "  <thead>\n",
       "    <tr style=\"text-align: right;\">\n",
       "      <th></th>\n",
       "      <th>id</th>\n",
       "      <th>score</th>\n",
       "    </tr>\n",
       "  </thead>\n",
       "  <tbody>\n",
       "    <tr>\n",
       "      <th>0</th>\n",
       "      <td>00001</td>\n",
       "      <td>0</td>\n",
       "    </tr>\n",
       "    <tr>\n",
       "      <th>1</th>\n",
       "      <td>00002</td>\n",
       "      <td>1</td>\n",
       "    </tr>\n",
       "    <tr>\n",
       "      <th>2</th>\n",
       "      <td>00003</td>\n",
       "      <td>2</td>\n",
       "    </tr>\n",
       "    <tr>\n",
       "      <th>3</th>\n",
       "      <td>00001</td>\n",
       "      <td>3</td>\n",
       "    </tr>\n",
       "    <tr>\n",
       "      <th>0</th>\n",
       "      <td>00001</td>\n",
       "      <td>0</td>\n",
       "    </tr>\n",
       "    <tr>\n",
       "      <th>1</th>\n",
       "      <td>00002</td>\n",
       "      <td>1</td>\n",
       "    </tr>\n",
       "    <tr>\n",
       "      <th>2</th>\n",
       "      <td>00003</td>\n",
       "      <td>2</td>\n",
       "    </tr>\n",
       "    <tr>\n",
       "      <th>3</th>\n",
       "      <td>00001</td>\n",
       "      <td>3</td>\n",
       "    </tr>\n",
       "  </tbody>\n",
       "</table>\n",
       "</div>"
      ],
      "text/plain": [
       "      id  score\n",
       "0  00001      0\n",
       "1  00002      1\n",
       "2  00003      2\n",
       "3  00001      3\n",
       "0  00001      0\n",
       "1  00002      1\n",
       "2  00003      2\n",
       "3  00001      3"
      ]
     },
     "execution_count": 62,
     "metadata": {},
     "output_type": "execute_result"
    }
   ],
   "source": [
    "# append a dataframe\n",
    "df1.append(df2)"
   ]
  },
  {
   "cell_type": "code",
   "execution_count": 63,
   "metadata": {},
   "outputs": [
    {
     "data": {
      "text/html": [
       "<div>\n",
       "<style>\n",
       "    .dataframe thead tr:only-child th {\n",
       "        text-align: right;\n",
       "    }\n",
       "\n",
       "    .dataframe thead th {\n",
       "        text-align: left;\n",
       "    }\n",
       "\n",
       "    .dataframe tbody tr th {\n",
       "        vertical-align: top;\n",
       "    }\n",
       "</style>\n",
       "<table border=\"1\" class=\"dataframe\">\n",
       "  <thead>\n",
       "    <tr style=\"text-align: right;\">\n",
       "      <th></th>\n",
       "      <th>id</th>\n",
       "      <th>score</th>\n",
       "    </tr>\n",
       "  </thead>\n",
       "  <tbody>\n",
       "    <tr>\n",
       "      <th>0</th>\n",
       "      <td>00001</td>\n",
       "      <td>0</td>\n",
       "    </tr>\n",
       "    <tr>\n",
       "      <th>1</th>\n",
       "      <td>00002</td>\n",
       "      <td>1</td>\n",
       "    </tr>\n",
       "    <tr>\n",
       "      <th>2</th>\n",
       "      <td>00003</td>\n",
       "      <td>2</td>\n",
       "    </tr>\n",
       "    <tr>\n",
       "      <th>3</th>\n",
       "      <td>00001</td>\n",
       "      <td>3</td>\n",
       "    </tr>\n",
       "    <tr>\n",
       "      <th>0</th>\n",
       "      <td>00001</td>\n",
       "      <td>0</td>\n",
       "    </tr>\n",
       "    <tr>\n",
       "      <th>1</th>\n",
       "      <td>00002</td>\n",
       "      <td>1</td>\n",
       "    </tr>\n",
       "    <tr>\n",
       "      <th>2</th>\n",
       "      <td>00003</td>\n",
       "      <td>2</td>\n",
       "    </tr>\n",
       "    <tr>\n",
       "      <th>3</th>\n",
       "      <td>00001</td>\n",
       "      <td>3</td>\n",
       "    </tr>\n",
       "  </tbody>\n",
       "</table>\n",
       "</div>"
      ],
      "text/plain": [
       "      id  score\n",
       "0  00001      0\n",
       "1  00002      1\n",
       "2  00003      2\n",
       "3  00001      3\n",
       "0  00001      0\n",
       "1  00002      1\n",
       "2  00003      2\n",
       "3  00001      3"
      ]
     },
     "execution_count": 63,
     "metadata": {},
     "output_type": "execute_result"
    }
   ],
   "source": [
    "# append a dataframe using concat\n",
    "pd.concat([df1, df2], axis=0)"
   ]
  },
  {
   "cell_type": "markdown",
   "metadata": {},
   "source": [
    "# Group by"
   ]
  },
  {
   "cell_type": "code",
   "execution_count": 281,
   "metadata": {},
   "outputs": [
    {
     "name": "stdout",
     "output_type": "stream",
     "text": [
      "  ticker       date      col1      col2\n",
      "0      A 2016-07-25  0.611022  0.465063\n",
      "1      A 2016-07-26  0.556476  0.249893\n",
      "2      A 2016-07-27  0.697348  0.834310\n",
      "3      A 2016-07-28  0.868427  0.438615\n",
      "4      A 2016-07-29  0.731708  0.909532\n",
      "5      B 2016-07-25  0.016074  0.759305\n",
      "6      B 2016-07-26  0.642525  0.526267\n",
      "7      B 2016-07-27  0.799280  0.111633\n",
      "8      B 2016-07-28  0.516698  0.970150\n",
      "9      B 2016-07-29  0.633974  0.606188\n"
     ]
    },
    {
     "data": {
      "text/plain": [
       "<pandas.core.groupby.DataFrameGroupBy object at 0x000000000A8EE0F0>"
      ]
     },
     "execution_count": 281,
     "metadata": {},
     "output_type": "execute_result"
    }
   ],
   "source": [
    "df_t = pd.DataFrame({'date': pd.date_range('2016/07/25', periods=5).tolist() * 2\n",
    "                  , 'ticker': ['A']*5 + ['B']*5\n",
    "                  , 'col1': np.random.rand(10)\n",
    "                  , 'col2': np.random.rand(10)})\n",
    "print(df_t[['ticker', 'date', 'col1', 'col2']])\n",
    "\n",
    "# groupby return a groupby object\n",
    "df_t.groupby(['ticker'])"
   ]
  },
  {
   "cell_type": "code",
   "execution_count": 305,
   "metadata": {},
   "outputs": [
    {
     "name": "stdout",
     "output_type": "stream",
     "text": [
      "        col1  col2  date\n",
      "ticker                  \n",
      "A          5     5     5\n",
      "B          5     5     5\n",
      "        col1  col2  date\n",
      "ticker                  \n",
      "A          5     5     5\n",
      "B          5     5     5\n",
      "ticker\n",
      "A    5\n",
      "B    5\n",
      "Name: date, dtype: int64\n",
      "ticker\n",
      "A    5\n",
      "B    5\n",
      "dtype: int64\n",
      "        col1                                          col2            \\\n",
      "       count      mean       sum       max       min count      mean   \n",
      "ticker                                                                 \n",
      "A          5  0.692996  3.464981  0.868427  0.556476     5  0.579483   \n",
      "B          5  0.521710  2.608552  0.799280  0.016074     5  0.594708   \n",
      "\n",
      "                                      \n",
      "             sum       max       min  \n",
      "ticker                                \n",
      "A       2.897413  0.909532  0.249893  \n",
      "B       2.973542  0.970150  0.111633  \n"
     ]
    }
   ],
   "source": [
    "# group by and apply aggregation function to columns\n",
    "\n",
    "# group count\n",
    "print(df_t.groupby(['ticker']).count())\n",
    "print(df_t.groupby(['ticker']).aggregate('count'))\n",
    "\n",
    "print(df_t.groupby(['ticker']).date.count())\n",
    "print(df_t.groupby(['ticker']).size())\n",
    "# group mean, median, max, min\n",
    "print(df_t.groupby(['ticker']).aggregate(['count', 'mean', 'sum', 'max', 'min']))"
   ]
  },
  {
   "cell_type": "code",
   "execution_count": 304,
   "metadata": {},
   "outputs": [
    {
     "data": {
      "text/html": [
       "<div>\n",
       "<style>\n",
       "    .dataframe thead tr:only-child th {\n",
       "        text-align: right;\n",
       "    }\n",
       "\n",
       "    .dataframe thead th {\n",
       "        text-align: left;\n",
       "    }\n",
       "\n",
       "    .dataframe tbody tr th {\n",
       "        vertical-align: top;\n",
       "    }\n",
       "</style>\n",
       "<table border=\"1\" class=\"dataframe\">\n",
       "  <thead>\n",
       "    <tr style=\"text-align: right;\">\n",
       "      <th></th>\n",
       "      <th>col1</th>\n",
       "      <th>col2</th>\n",
       "    </tr>\n",
       "    <tr>\n",
       "      <th>ticker</th>\n",
       "      <th></th>\n",
       "      <th></th>\n",
       "    </tr>\n",
       "  </thead>\n",
       "  <tbody>\n",
       "    <tr>\n",
       "      <th>A</th>\n",
       "      <td>3.464981</td>\n",
       "      <td>2.897413</td>\n",
       "    </tr>\n",
       "    <tr>\n",
       "      <th>B</th>\n",
       "      <td>2.608552</td>\n",
       "      <td>2.973542</td>\n",
       "    </tr>\n",
       "  </tbody>\n",
       "</table>\n",
       "</div>"
      ],
      "text/plain": [
       "            col1      col2\n",
       "ticker                    \n",
       "A       3.464981  2.897413\n",
       "B       2.608552  2.973542"
      ]
     },
     "execution_count": 304,
     "metadata": {},
     "output_type": "execute_result"
    }
   ],
   "source": [
    "# group custom aggregate function\n",
    "df_t.groupby(['ticker'])[['col1', 'col2']].apply(lambda x: np.sum(x))"
   ]
  },
  {
   "cell_type": "code",
   "execution_count": 306,
   "metadata": {},
   "outputs": [
    {
     "data": {
      "text/html": [
       "<div>\n",
       "<style>\n",
       "    .dataframe thead tr:only-child th {\n",
       "        text-align: right;\n",
       "    }\n",
       "\n",
       "    .dataframe thead th {\n",
       "        text-align: left;\n",
       "    }\n",
       "\n",
       "    .dataframe tbody tr th {\n",
       "        vertical-align: top;\n",
       "    }\n",
       "</style>\n",
       "<table border=\"1\" class=\"dataframe\">\n",
       "  <thead>\n",
       "    <tr style=\"text-align: right;\">\n",
       "      <th></th>\n",
       "      <th>col1</th>\n",
       "      <th>col2</th>\n",
       "    </tr>\n",
       "  </thead>\n",
       "  <tbody>\n",
       "    <tr>\n",
       "      <th>0</th>\n",
       "      <td>0.611022</td>\n",
       "      <td>0.465063</td>\n",
       "    </tr>\n",
       "    <tr>\n",
       "      <th>1</th>\n",
       "      <td>1.167498</td>\n",
       "      <td>0.714956</td>\n",
       "    </tr>\n",
       "    <tr>\n",
       "      <th>2</th>\n",
       "      <td>1.864846</td>\n",
       "      <td>1.549266</td>\n",
       "    </tr>\n",
       "    <tr>\n",
       "      <th>3</th>\n",
       "      <td>2.733273</td>\n",
       "      <td>1.987880</td>\n",
       "    </tr>\n",
       "    <tr>\n",
       "      <th>4</th>\n",
       "      <td>3.464981</td>\n",
       "      <td>2.897413</td>\n",
       "    </tr>\n",
       "    <tr>\n",
       "      <th>5</th>\n",
       "      <td>0.016074</td>\n",
       "      <td>0.759305</td>\n",
       "    </tr>\n",
       "    <tr>\n",
       "      <th>6</th>\n",
       "      <td>0.658600</td>\n",
       "      <td>1.285571</td>\n",
       "    </tr>\n",
       "    <tr>\n",
       "      <th>7</th>\n",
       "      <td>1.457879</td>\n",
       "      <td>1.397204</td>\n",
       "    </tr>\n",
       "    <tr>\n",
       "      <th>8</th>\n",
       "      <td>1.974578</td>\n",
       "      <td>2.367354</td>\n",
       "    </tr>\n",
       "    <tr>\n",
       "      <th>9</th>\n",
       "      <td>2.608552</td>\n",
       "      <td>2.973542</td>\n",
       "    </tr>\n",
       "  </tbody>\n",
       "</table>\n",
       "</div>"
      ],
      "text/plain": [
       "       col1      col2\n",
       "0  0.611022  0.465063\n",
       "1  1.167498  0.714956\n",
       "2  1.864846  1.549266\n",
       "3  2.733273  1.987880\n",
       "4  3.464981  2.897413\n",
       "5  0.016074  0.759305\n",
       "6  0.658600  1.285571\n",
       "7  1.457879  1.397204\n",
       "8  1.974578  2.367354\n",
       "9  2.608552  2.973542"
      ]
     },
     "execution_count": 306,
     "metadata": {},
     "output_type": "execute_result"
    }
   ],
   "source": [
    "# group by and apply non-aggregation function to columns\n",
    "# cumsum by group\n",
    "df_t.groupby(['ticker'])[['col1', 'col2']].apply(lambda x: np.cumsum(x))"
   ]
  },
  {
   "cell_type": "code",
   "execution_count": 316,
   "metadata": {},
   "outputs": [
    {
     "data": {
      "text/html": [
       "<div>\n",
       "<style>\n",
       "    .dataframe thead tr:only-child th {\n",
       "        text-align: right;\n",
       "    }\n",
       "\n",
       "    .dataframe thead th {\n",
       "        text-align: left;\n",
       "    }\n",
       "\n",
       "    .dataframe tbody tr th {\n",
       "        vertical-align: top;\n",
       "    }\n",
       "</style>\n",
       "<table border=\"1\" class=\"dataframe\">\n",
       "  <thead>\n",
       "    <tr style=\"text-align: right;\">\n",
       "      <th></th>\n",
       "      <th>col1_cumsum</th>\n",
       "      <th>col2_2</th>\n",
       "      <th>date</th>\n",
       "      <th>ticker</th>\n",
       "    </tr>\n",
       "  </thead>\n",
       "  <tbody>\n",
       "    <tr>\n",
       "      <th>0</th>\n",
       "      <td>0.611022</td>\n",
       "      <td>0.930126</td>\n",
       "      <td>2016-07-25</td>\n",
       "      <td>A</td>\n",
       "    </tr>\n",
       "    <tr>\n",
       "      <th>1</th>\n",
       "      <td>1.167498</td>\n",
       "      <td>0.499785</td>\n",
       "      <td>2016-07-26</td>\n",
       "      <td>A</td>\n",
       "    </tr>\n",
       "    <tr>\n",
       "      <th>2</th>\n",
       "      <td>1.864846</td>\n",
       "      <td>1.668620</td>\n",
       "      <td>2016-07-27</td>\n",
       "      <td>A</td>\n",
       "    </tr>\n",
       "    <tr>\n",
       "      <th>3</th>\n",
       "      <td>2.733273</td>\n",
       "      <td>0.877229</td>\n",
       "      <td>2016-07-28</td>\n",
       "      <td>A</td>\n",
       "    </tr>\n",
       "    <tr>\n",
       "      <th>4</th>\n",
       "      <td>3.464981</td>\n",
       "      <td>1.819065</td>\n",
       "      <td>2016-07-29</td>\n",
       "      <td>A</td>\n",
       "    </tr>\n",
       "    <tr>\n",
       "      <th>5</th>\n",
       "      <td>0.016074</td>\n",
       "      <td>1.518609</td>\n",
       "      <td>2016-07-25</td>\n",
       "      <td>B</td>\n",
       "    </tr>\n",
       "    <tr>\n",
       "      <th>6</th>\n",
       "      <td>0.658600</td>\n",
       "      <td>1.052533</td>\n",
       "      <td>2016-07-26</td>\n",
       "      <td>B</td>\n",
       "    </tr>\n",
       "    <tr>\n",
       "      <th>7</th>\n",
       "      <td>1.457879</td>\n",
       "      <td>0.223265</td>\n",
       "      <td>2016-07-27</td>\n",
       "      <td>B</td>\n",
       "    </tr>\n",
       "    <tr>\n",
       "      <th>8</th>\n",
       "      <td>1.974578</td>\n",
       "      <td>1.940300</td>\n",
       "      <td>2016-07-28</td>\n",
       "      <td>B</td>\n",
       "    </tr>\n",
       "    <tr>\n",
       "      <th>9</th>\n",
       "      <td>2.608552</td>\n",
       "      <td>1.212376</td>\n",
       "      <td>2016-07-29</td>\n",
       "      <td>B</td>\n",
       "    </tr>\n",
       "  </tbody>\n",
       "</table>\n",
       "</div>"
      ],
      "text/plain": [
       "   col1_cumsum    col2_2       date ticker\n",
       "0     0.611022  0.930126 2016-07-25      A\n",
       "1     1.167498  0.499785 2016-07-26      A\n",
       "2     1.864846  1.668620 2016-07-27      A\n",
       "3     2.733273  0.877229 2016-07-28      A\n",
       "4     3.464981  1.819065 2016-07-29      A\n",
       "5     0.016074  1.518609 2016-07-25      B\n",
       "6     0.658600  1.052533 2016-07-26      B\n",
       "7     1.457879  0.223265 2016-07-27      B\n",
       "8     1.974578  1.940300 2016-07-28      B\n",
       "9     2.608552  1.212376 2016-07-29      B"
      ]
     },
     "execution_count": 316,
     "metadata": {},
     "output_type": "execute_result"
    }
   ],
   "source": [
    "# apply differnet non-aggregate function to different columns\n",
    "def my_func(x):\n",
    "    col1_new = x.col1.cumsum()\n",
    "    col2_new = x.col2 * 2\n",
    "    date = x.date\n",
    "    ticker = x.ticker\n",
    "    return pd.DataFrame({'ticker': ticker, 'col1_cumsum':col1_new, 'col2_2': col2_new, 'date':date})\n",
    "\n",
    "df_t.groupby(['ticker']).apply(my_func)"
   ]
  },
  {
   "cell_type": "markdown",
   "metadata": {},
   "source": [
    "# Transformation "
   ]
  },
  {
   "cell_type": "markdown",
   "metadata": {},
   "source": [
    "## dcast"
   ]
  },
  {
   "cell_type": "code",
   "execution_count": 242,
   "metadata": {},
   "outputs": [
    {
     "name": "stdout",
     "output_type": "stream",
     "text": [
      "  ticker       date      col1      col2\n",
      "0      A 2016-07-25  0.551251  0.415360\n",
      "1      A 2016-07-26  0.578176  0.099689\n",
      "2      A 2016-07-27  0.863598  0.453243\n",
      "3      A 2016-07-28  0.087747  0.037609\n",
      "4      A 2016-07-29  0.840936  0.611497\n",
      "5      B 2016-07-25  0.244143  0.386107\n",
      "6      B 2016-07-26  0.421040  0.478120\n",
      "7      B 2016-07-27  0.616023  0.385456\n",
      "8      B 2016-07-28  0.179030  0.193170\n",
      "9      B 2016-07-29  0.533337  0.110533\n",
      "ticker       date         A         B\n",
      "0      2016-07-25  0.551251  0.244143\n",
      "1      2016-07-26  0.578176  0.421040\n",
      "2      2016-07-27  0.863598  0.616023\n",
      "3      2016-07-28  0.087747  0.179030\n",
      "4      2016-07-29  0.840936  0.533337\n"
     ]
    }
   ],
   "source": [
    "df_t = pd.DataFrame({'date': pd.date_range('2016/07/25', periods=5).tolist() * 2\n",
    "                  , 'ticker': ['A']*5 + ['B']*5\n",
    "                  , 'col1': np.random.rand(10)\n",
    "                  , 'col2': np.random.rand(10)})\n",
    "print(df_t[['ticker', 'date', 'col1', 'col2']])\n",
    "\n",
    "print(df_t.pivot_table(index='date', columns='ticker', values='col1').reset_index())"
   ]
  },
  {
   "cell_type": "code",
   "execution_count": 241,
   "metadata": {},
   "outputs": [
    {
     "name": "stdout",
     "output_type": "stream",
     "text": [
      "             date      col1                col2          \n",
      "ticker                    A         B         A         B\n",
      "0      2016-07-25  0.036315  0.446162  0.962582  0.380708\n",
      "1      2016-07-26  0.039807  0.914333  0.026415  0.889065\n",
      "2      2016-07-27  0.442656  0.434181  0.870239  0.030519\n",
      "3      2016-07-28  0.439464  0.026301  0.842152  0.921363\n",
      "4      2016-07-29  0.429947  0.209193  0.831693  0.412447\n",
      "MultiIndex(levels=[[u'col1', u'col2', u'date'], [u'A', u'B', u'']],\n",
      "           labels=[[2, 0, 0, 1, 1], [2, 0, 1, 0, 1]],\n",
      "           names=[None, u'ticker'])\n",
      "       date_    col1_A    col1_B    col2_A    col2_B\n",
      "0 2016-07-25  0.036315  0.446162  0.962582  0.380708\n",
      "1 2016-07-26  0.039807  0.914333  0.026415  0.889065\n",
      "2 2016-07-27  0.442656  0.434181  0.870239  0.030519\n",
      "3 2016-07-28  0.439464  0.026301  0.842152  0.921363\n",
      "4 2016-07-29  0.429947  0.209193  0.831693  0.412447\n"
     ]
    }
   ],
   "source": [
    "df_t_dcast = df_t.pivot_table(index='date', columns='ticker', values=['col1', 'col2']).reset_index()\n",
    "print(df_t_dcast)\n",
    "print(df_t_dcast.columns)\n",
    "df_t_dcast.columns = ['{0}_{1}'.format(lv1, lv2) for lv1, lv2 in df_t_dcast.columns]\n",
    "print(df_t_dcast)"
   ]
  },
  {
   "cell_type": "markdown",
   "metadata": {},
   "source": [
    "## melt"
   ]
  },
  {
   "cell_type": "code",
   "execution_count": 226,
   "metadata": {},
   "outputs": [
    {
     "name": "stdout",
     "output_type": "stream",
     "text": [
      "         date ticker variable     value\n",
      "0  2016-07-25      A     col1  0.036315\n",
      "1  2016-07-26      A     col1  0.039807\n",
      "2  2016-07-27      A     col1  0.442656\n",
      "3  2016-07-28      A     col1  0.439464\n",
      "4  2016-07-29      A     col1  0.429947\n",
      "5  2016-07-25      B     col1  0.446162\n",
      "6  2016-07-26      B     col1  0.914333\n",
      "7  2016-07-27      B     col1  0.434181\n",
      "8  2016-07-28      B     col1  0.026301\n",
      "9  2016-07-29      B     col1  0.209193\n",
      "10 2016-07-25      A     col2  0.962582\n",
      "11 2016-07-26      A     col2  0.026415\n",
      "12 2016-07-27      A     col2  0.870239\n",
      "13 2016-07-28      A     col2  0.842152\n",
      "14 2016-07-29      A     col2  0.831693\n",
      "15 2016-07-25      B     col2  0.380708\n",
      "16 2016-07-26      B     col2  0.889065\n",
      "17 2016-07-27      B     col2  0.030519\n",
      "18 2016-07-28      B     col2  0.921363\n",
      "19 2016-07-29      B     col2  0.412447\n",
      "ticker             A                   B          \n",
      "variable        col1      col2      col1      col2\n",
      "date                                              \n",
      "2016-07-25  0.036315  0.962582  0.446162  0.380708\n",
      "2016-07-26  0.039807  0.026415  0.914333  0.889065\n",
      "2016-07-27  0.442656  0.870239  0.434181  0.030519\n",
      "2016-07-28  0.439464  0.842152  0.026301  0.921363\n",
      "2016-07-29  0.429947  0.831693  0.209193  0.412447\n"
     ]
    }
   ],
   "source": [
    "print(pd.melt(df_t, id_vars=['date', 'ticker']))\n",
    "print(pd.melt(df_t, id_vars=['date', 'ticker']).pivot_table(index='date', columns=['ticker', 'variable'], values='value'))"
   ]
  },
  {
   "cell_type": "code",
   "execution_count": 240,
   "metadata": {},
   "outputs": [
    {
     "name": "stdout",
     "output_type": "stream",
     "text": [
      "             date      col1                col2          \n",
      "ticker                    A         B         A         B\n",
      "0      2016-07-25  0.036315  0.446162  0.962582  0.380708\n",
      "1      2016-07-26  0.039807  0.914333  0.026415  0.889065\n",
      "2      2016-07-27  0.442656  0.434181  0.870239  0.030519\n",
      "3      2016-07-28  0.439464  0.026301  0.842152  0.921363\n",
      "4      2016-07-29  0.429947  0.209193  0.831693  0.412447\n",
      "         date   NaN ticker     value\n",
      "0  2016-07-25  col1      A  0.036315\n",
      "1  2016-07-26  col1      A  0.039807\n",
      "2  2016-07-27  col1      A  0.442656\n",
      "3  2016-07-28  col1      A  0.439464\n",
      "4  2016-07-29  col1      A  0.429947\n",
      "5  2016-07-25  col1      B  0.446162\n",
      "6  2016-07-26  col1      B  0.914333\n",
      "7  2016-07-27  col1      B  0.434181\n",
      "8  2016-07-28  col1      B  0.026301\n",
      "9  2016-07-29  col1      B  0.209193\n",
      "10 2016-07-25  col2      A  0.962582\n",
      "11 2016-07-26  col2      A  0.026415\n",
      "12 2016-07-27  col2      A  0.870239\n",
      "13 2016-07-28  col2      A  0.842152\n",
      "14 2016-07-29  col2      A  0.831693\n",
      "15 2016-07-25  col2      B  0.380708\n",
      "16 2016-07-26  col2      B  0.889065\n",
      "17 2016-07-27  col2      B  0.030519\n",
      "18 2016-07-28  col2      B  0.921363\n",
      "19 2016-07-29  col2      B  0.412447\n"
     ]
    }
   ],
   "source": [
    "df_t_dcast = df_t.pivot_table(index='date', columns='ticker', values=['col1', 'col2']).reset_index()\n",
    "print(df_t_dcast)\n",
    "\n",
    "df_t_melt = pd.melt(df_t_dcast, id_vars='date')\n",
    "print(df_t_melt)"
   ]
  },
  {
   "cell_type": "markdown",
   "metadata": {},
   "source": [
    "# Apply / Map function to row / column / cell\n",
    ".apply() is used on dataframe\n",
    "\n",
    ".map() is used on series"
   ]
  },
  {
   "cell_type": "code",
   "execution_count": 266,
   "metadata": {},
   "outputs": [
    {
     "data": {
      "text/html": [
       "<div>\n",
       "<style>\n",
       "    .dataframe thead tr:only-child th {\n",
       "        text-align: right;\n",
       "    }\n",
       "\n",
       "    .dataframe thead th {\n",
       "        text-align: left;\n",
       "    }\n",
       "\n",
       "    .dataframe tbody tr th {\n",
       "        vertical-align: top;\n",
       "    }\n",
       "</style>\n",
       "<table border=\"1\" class=\"dataframe\">\n",
       "  <thead>\n",
       "    <tr style=\"text-align: right;\">\n",
       "      <th></th>\n",
       "      <th>col1</th>\n",
       "      <th>col2</th>\n",
       "    </tr>\n",
       "  </thead>\n",
       "  <tbody>\n",
       "    <tr>\n",
       "      <th>0</th>\n",
       "      <td>0.551251</td>\n",
       "      <td>0.415360</td>\n",
       "    </tr>\n",
       "    <tr>\n",
       "      <th>1</th>\n",
       "      <td>1.129427</td>\n",
       "      <td>0.515049</td>\n",
       "    </tr>\n",
       "    <tr>\n",
       "      <th>2</th>\n",
       "      <td>1.993024</td>\n",
       "      <td>0.968291</td>\n",
       "    </tr>\n",
       "    <tr>\n",
       "      <th>3</th>\n",
       "      <td>2.080772</td>\n",
       "      <td>1.005901</td>\n",
       "    </tr>\n",
       "    <tr>\n",
       "      <th>4</th>\n",
       "      <td>2.921708</td>\n",
       "      <td>1.617397</td>\n",
       "    </tr>\n",
       "    <tr>\n",
       "      <th>5</th>\n",
       "      <td>3.165851</td>\n",
       "      <td>2.003504</td>\n",
       "    </tr>\n",
       "    <tr>\n",
       "      <th>6</th>\n",
       "      <td>3.586892</td>\n",
       "      <td>2.481624</td>\n",
       "    </tr>\n",
       "    <tr>\n",
       "      <th>7</th>\n",
       "      <td>4.202915</td>\n",
       "      <td>2.867080</td>\n",
       "    </tr>\n",
       "    <tr>\n",
       "      <th>8</th>\n",
       "      <td>4.381945</td>\n",
       "      <td>3.060251</td>\n",
       "    </tr>\n",
       "    <tr>\n",
       "      <th>9</th>\n",
       "      <td>4.915281</td>\n",
       "      <td>3.170784</td>\n",
       "    </tr>\n",
       "  </tbody>\n",
       "</table>\n",
       "</div>"
      ],
      "text/plain": [
       "       col1      col2\n",
       "0  0.551251  0.415360\n",
       "1  1.129427  0.515049\n",
       "2  1.993024  0.968291\n",
       "3  2.080772  1.005901\n",
       "4  2.921708  1.617397\n",
       "5  3.165851  2.003504\n",
       "6  3.586892  2.481624\n",
       "7  4.202915  2.867080\n",
       "8  4.381945  3.060251\n",
       "9  4.915281  3.170784"
      ]
     },
     "execution_count": 266,
     "metadata": {},
     "output_type": "execute_result"
    }
   ],
   "source": [
    "# apply function to columns\n",
    "df_t[['col1', 'col2']].apply(lambda x: np.cumsum(x))"
   ]
  },
  {
   "cell_type": "code",
   "execution_count": 267,
   "metadata": {},
   "outputs": [
    {
     "data": {
      "text/html": [
       "<div>\n",
       "<style>\n",
       "    .dataframe thead tr:only-child th {\n",
       "        text-align: right;\n",
       "    }\n",
       "\n",
       "    .dataframe thead th {\n",
       "        text-align: left;\n",
       "    }\n",
       "\n",
       "    .dataframe tbody tr th {\n",
       "        vertical-align: top;\n",
       "    }\n",
       "</style>\n",
       "<table border=\"1\" class=\"dataframe\">\n",
       "  <thead>\n",
       "    <tr style=\"text-align: right;\">\n",
       "      <th></th>\n",
       "      <th>col1</th>\n",
       "      <th>col2</th>\n",
       "    </tr>\n",
       "  </thead>\n",
       "  <tbody>\n",
       "    <tr>\n",
       "      <th>0</th>\n",
       "      <td>0.551251</td>\n",
       "      <td>0.966611</td>\n",
       "    </tr>\n",
       "    <tr>\n",
       "      <th>1</th>\n",
       "      <td>0.578176</td>\n",
       "      <td>0.677864</td>\n",
       "    </tr>\n",
       "    <tr>\n",
       "      <th>2</th>\n",
       "      <td>0.863598</td>\n",
       "      <td>1.316841</td>\n",
       "    </tr>\n",
       "    <tr>\n",
       "      <th>3</th>\n",
       "      <td>0.087747</td>\n",
       "      <td>0.125356</td>\n",
       "    </tr>\n",
       "    <tr>\n",
       "      <th>4</th>\n",
       "      <td>0.840936</td>\n",
       "      <td>1.452433</td>\n",
       "    </tr>\n",
       "    <tr>\n",
       "      <th>5</th>\n",
       "      <td>0.244143</td>\n",
       "      <td>0.630250</td>\n",
       "    </tr>\n",
       "    <tr>\n",
       "      <th>6</th>\n",
       "      <td>0.421040</td>\n",
       "      <td>0.899160</td>\n",
       "    </tr>\n",
       "    <tr>\n",
       "      <th>7</th>\n",
       "      <td>0.616023</td>\n",
       "      <td>1.001480</td>\n",
       "    </tr>\n",
       "    <tr>\n",
       "      <th>8</th>\n",
       "      <td>0.179030</td>\n",
       "      <td>0.372200</td>\n",
       "    </tr>\n",
       "    <tr>\n",
       "      <th>9</th>\n",
       "      <td>0.533337</td>\n",
       "      <td>0.643870</td>\n",
       "    </tr>\n",
       "  </tbody>\n",
       "</table>\n",
       "</div>"
      ],
      "text/plain": [
       "       col1      col2\n",
       "0  0.551251  0.966611\n",
       "1  0.578176  0.677864\n",
       "2  0.863598  1.316841\n",
       "3  0.087747  0.125356\n",
       "4  0.840936  1.452433\n",
       "5  0.244143  0.630250\n",
       "6  0.421040  0.899160\n",
       "7  0.616023  1.001480\n",
       "8  0.179030  0.372200\n",
       "9  0.533337  0.643870"
      ]
     },
     "execution_count": 267,
     "metadata": {},
     "output_type": "execute_result"
    }
   ],
   "source": [
    "# apply function to rows\n",
    "df_t[['col1', 'col2']].apply(lambda x: np.cumsum(x), axis=1)"
   ]
  },
  {
   "cell_type": "code",
   "execution_count": 279,
   "metadata": {},
   "outputs": [
    {
     "name": "stdout",
     "output_type": "stream",
     "text": [
      "       col1      col2       date ticker\n",
      "0  0.551251  0.415360 2016-07-25      A\n",
      "1  0.578176  0.099689 2016-07-26      A\n",
      "2  0.863598  0.453243 2016-07-27      A\n",
      "3  0.087747  0.037609 2016-07-28      A\n",
      "4  0.840936  0.611497 2016-07-29      A\n",
      "5  0.244143  0.386107 2016-07-25      B\n",
      "6  0.421040  0.478120 2016-07-26      B\n",
      "7  0.616023  0.385456 2016-07-27      B\n",
      "8  0.179030  0.193170 2016-07-28      B\n",
      "9  0.533337  0.110533 2016-07-29      B\n"
     ]
    },
    {
     "data": {
      "text/html": [
       "<div>\n",
       "<style>\n",
       "    .dataframe thead tr:only-child th {\n",
       "        text-align: right;\n",
       "    }\n",
       "\n",
       "    .dataframe thead th {\n",
       "        text-align: left;\n",
       "    }\n",
       "\n",
       "    .dataframe tbody tr th {\n",
       "        vertical-align: top;\n",
       "    }\n",
       "</style>\n",
       "<table border=\"1\" class=\"dataframe\">\n",
       "  <thead>\n",
       "    <tr style=\"text-align: right;\">\n",
       "      <th></th>\n",
       "      <th>col1</th>\n",
       "      <th>col2</th>\n",
       "    </tr>\n",
       "  </thead>\n",
       "  <tbody>\n",
       "    <tr>\n",
       "      <th>0</th>\n",
       "      <td>1.102501</td>\n",
       "      <td>0.830720</td>\n",
       "    </tr>\n",
       "    <tr>\n",
       "      <th>1</th>\n",
       "      <td>1.156352</td>\n",
       "      <td>0.199377</td>\n",
       "    </tr>\n",
       "    <tr>\n",
       "      <th>2</th>\n",
       "      <td>1.727196</td>\n",
       "      <td>0.906486</td>\n",
       "    </tr>\n",
       "    <tr>\n",
       "      <th>3</th>\n",
       "      <td>0.175494</td>\n",
       "      <td>0.075218</td>\n",
       "    </tr>\n",
       "    <tr>\n",
       "      <th>4</th>\n",
       "      <td>1.681873</td>\n",
       "      <td>1.222993</td>\n",
       "    </tr>\n",
       "    <tr>\n",
       "      <th>5</th>\n",
       "      <td>0.488287</td>\n",
       "      <td>0.772214</td>\n",
       "    </tr>\n",
       "    <tr>\n",
       "      <th>6</th>\n",
       "      <td>0.842081</td>\n",
       "      <td>0.956240</td>\n",
       "    </tr>\n",
       "    <tr>\n",
       "      <th>7</th>\n",
       "      <td>1.232047</td>\n",
       "      <td>0.770912</td>\n",
       "    </tr>\n",
       "    <tr>\n",
       "      <th>8</th>\n",
       "      <td>0.358059</td>\n",
       "      <td>0.386341</td>\n",
       "    </tr>\n",
       "    <tr>\n",
       "      <th>9</th>\n",
       "      <td>1.066673</td>\n",
       "      <td>0.221067</td>\n",
       "    </tr>\n",
       "  </tbody>\n",
       "</table>\n",
       "</div>"
      ],
      "text/plain": [
       "       col1      col2\n",
       "0  1.102501  0.830720\n",
       "1  1.156352  0.199377\n",
       "2  1.727196  0.906486\n",
       "3  0.175494  0.075218\n",
       "4  1.681873  1.222993\n",
       "5  0.488287  0.772214\n",
       "6  0.842081  0.956240\n",
       "7  1.232047  0.770912\n",
       "8  0.358059  0.386341\n",
       "9  1.066673  0.221067"
      ]
     },
     "execution_count": 279,
     "metadata": {},
     "output_type": "execute_result"
    }
   ],
   "source": [
    "# apply a function to each cell in a dataframe\n",
    "df_t[['col1', 'col2']].apply(lambda x: x*2)"
   ]
  },
  {
   "cell_type": "code",
   "execution_count": 277,
   "metadata": {},
   "outputs": [
    {
     "data": {
      "text/plain": [
       "0    1.102501\n",
       "1    1.156352\n",
       "2    1.727196\n",
       "3    0.175494\n",
       "4    1.681873\n",
       "5    0.488287\n",
       "6    0.842081\n",
       "7    1.232047\n",
       "8    0.358059\n",
       "9    1.066673\n",
       "Name: col1, dtype: float64"
      ]
     },
     "execution_count": 277,
     "metadata": {},
     "output_type": "execute_result"
    }
   ],
   "source": [
    "# apply a function to each cell in a series\n",
    "df_t['col1'].map(lambda x: x*2)"
   ]
  },
  {
   "cell_type": "code",
   "execution_count": null,
   "metadata": {
    "collapsed": true
   },
   "outputs": [],
   "source": []
  },
  {
   "cell_type": "markdown",
   "metadata": {},
   "source": [
    "# From dataframe to Dict / Array"
   ]
  },
  {
   "cell_type": "code",
   "execution_count": 260,
   "metadata": {},
   "outputs": [
    {
     "data": {
      "text/plain": [
       "array([[0.5512507245585277, 0.4153600145816705,\n",
       "        Timestamp('2016-07-25 00:00:00'), 'A'],\n",
       "       [0.5781758143099083, 0.09968854450741127,\n",
       "        Timestamp('2016-07-26 00:00:00'), 'A'],\n",
       "       [0.8635978714278528, 0.4532428715732,\n",
       "        Timestamp('2016-07-27 00:00:00'), 'A'],\n",
       "       [0.0877472407774823, 0.037609172653104816,\n",
       "        Timestamp('2016-07-28 00:00:00'), 'A'],\n",
       "       [0.8409362698253112, 0.6114967004135908,\n",
       "        Timestamp('2016-07-29 00:00:00'), 'A'],\n",
       "       [0.24414337068370573, 0.3861069749804985,\n",
       "        Timestamp('2016-07-25 00:00:00'), 'B'],\n",
       "       [0.421040481312842, 0.4781197521175531,\n",
       "        Timestamp('2016-07-26 00:00:00'), 'B'],\n",
       "       [0.616023405006736, 0.38545619992058133,\n",
       "        Timestamp('2016-07-27 00:00:00'), 'B'],\n",
       "       [0.17902964281000178, 0.19317032433641224,\n",
       "        Timestamp('2016-07-28 00:00:00'), 'B'],\n",
       "       [0.5333365991465155, 0.1105334537611099,\n",
       "        Timestamp('2016-07-29 00:00:00'), 'B']], dtype=object)"
      ]
     },
     "execution_count": 260,
     "metadata": {},
     "output_type": "execute_result"
    }
   ],
   "source": [
    "# dataframe to array\n",
    "df_t.values\n"
   ]
  },
  {
   "cell_type": "code",
   "execution_count": 259,
   "metadata": {},
   "outputs": [
    {
     "data": {
      "text/plain": [
       "array([[0.5512507245585277, 0.4153600145816705,\n",
       "        Timestamp('2016-07-25 00:00:00'), 'A'],\n",
       "       [0.5781758143099083, 0.09968854450741127,\n",
       "        Timestamp('2016-07-26 00:00:00'), 'A'],\n",
       "       [0.8635978714278528, 0.4532428715732,\n",
       "        Timestamp('2016-07-27 00:00:00'), 'A'],\n",
       "       [0.0877472407774823, 0.037609172653104816,\n",
       "        Timestamp('2016-07-28 00:00:00'), 'A'],\n",
       "       [0.8409362698253112, 0.6114967004135908,\n",
       "        Timestamp('2016-07-29 00:00:00'), 'A'],\n",
       "       [0.24414337068370573, 0.3861069749804985,\n",
       "        Timestamp('2016-07-25 00:00:00'), 'B'],\n",
       "       [0.421040481312842, 0.4781197521175531,\n",
       "        Timestamp('2016-07-26 00:00:00'), 'B'],\n",
       "       [0.616023405006736, 0.38545619992058133,\n",
       "        Timestamp('2016-07-27 00:00:00'), 'B'],\n",
       "       [0.17902964281000178, 0.19317032433641224,\n",
       "        Timestamp('2016-07-28 00:00:00'), 'B'],\n",
       "       [0.5333365991465155, 0.1105334537611099,\n",
       "        Timestamp('2016-07-29 00:00:00'), 'B']], dtype=object)"
      ]
     },
     "execution_count": 259,
     "metadata": {},
     "output_type": "execute_result"
    }
   ],
   "source": [
    "# dataframe to array 2\n",
    "df_t.as_matrix()"
   ]
  },
  {
   "cell_type": "code",
   "execution_count": 262,
   "metadata": {},
   "outputs": [
    {
     "data": {
      "text/plain": [
       "{'col1': {0: 0.55125072455852775,\n",
       "  1: 0.57817581430990828,\n",
       "  2: 0.86359787142785283,\n",
       "  3: 0.087747240777482305,\n",
       "  4: 0.84093626982531122,\n",
       "  5: 0.24414337068370573,\n",
       "  6: 0.421040481312842,\n",
       "  7: 0.61602340500673602,\n",
       "  8: 0.17902964281000178,\n",
       "  9: 0.53333659914651554},\n",
       " 'col2': {0: 0.41536001458167049,\n",
       "  1: 0.09968854450741127,\n",
       "  2: 0.45324287157319998,\n",
       "  3: 0.037609172653104816,\n",
       "  4: 0.61149670041359083,\n",
       "  5: 0.38610697498049851,\n",
       "  6: 0.47811975211755309,\n",
       "  7: 0.38545619992058133,\n",
       "  8: 0.19317032433641224,\n",
       "  9: 0.1105334537611099},\n",
       " 'date': {0: Timestamp('2016-07-25 00:00:00'),\n",
       "  1: Timestamp('2016-07-26 00:00:00'),\n",
       "  2: Timestamp('2016-07-27 00:00:00'),\n",
       "  3: Timestamp('2016-07-28 00:00:00'),\n",
       "  4: Timestamp('2016-07-29 00:00:00'),\n",
       "  5: Timestamp('2016-07-25 00:00:00'),\n",
       "  6: Timestamp('2016-07-26 00:00:00'),\n",
       "  7: Timestamp('2016-07-27 00:00:00'),\n",
       "  8: Timestamp('2016-07-28 00:00:00'),\n",
       "  9: Timestamp('2016-07-29 00:00:00')},\n",
       " 'ticker': {0: 'A',\n",
       "  1: 'A',\n",
       "  2: 'A',\n",
       "  3: 'A',\n",
       "  4: 'A',\n",
       "  5: 'B',\n",
       "  6: 'B',\n",
       "  7: 'B',\n",
       "  8: 'B',\n",
       "  9: 'B'}}"
      ]
     },
     "execution_count": 262,
     "metadata": {},
     "output_type": "execute_result"
    }
   ],
   "source": [
    "# dataframe to dict by column\n",
    "df_t.to_dict()"
   ]
  },
  {
   "cell_type": "code",
   "execution_count": 263,
   "metadata": {},
   "outputs": [
    {
     "data": {
      "text/plain": [
       "{0: {'col1': 0.5512507245585277,\n",
       "  'col2': 0.4153600145816705,\n",
       "  'date': Timestamp('2016-07-25 00:00:00'),\n",
       "  'ticker': 'A'},\n",
       " 1: {'col1': 0.5781758143099083,\n",
       "  'col2': 0.09968854450741127,\n",
       "  'date': Timestamp('2016-07-26 00:00:00'),\n",
       "  'ticker': 'A'},\n",
       " 2: {'col1': 0.8635978714278528,\n",
       "  'col2': 0.4532428715732,\n",
       "  'date': Timestamp('2016-07-27 00:00:00'),\n",
       "  'ticker': 'A'},\n",
       " 3: {'col1': 0.0877472407774823,\n",
       "  'col2': 0.037609172653104816,\n",
       "  'date': Timestamp('2016-07-28 00:00:00'),\n",
       "  'ticker': 'A'},\n",
       " 4: {'col1': 0.8409362698253112,\n",
       "  'col2': 0.6114967004135908,\n",
       "  'date': Timestamp('2016-07-29 00:00:00'),\n",
       "  'ticker': 'A'},\n",
       " 5: {'col1': 0.24414337068370573,\n",
       "  'col2': 0.3861069749804985,\n",
       "  'date': Timestamp('2016-07-25 00:00:00'),\n",
       "  'ticker': 'B'},\n",
       " 6: {'col1': 0.421040481312842,\n",
       "  'col2': 0.4781197521175531,\n",
       "  'date': Timestamp('2016-07-26 00:00:00'),\n",
       "  'ticker': 'B'},\n",
       " 7: {'col1': 0.616023405006736,\n",
       "  'col2': 0.38545619992058133,\n",
       "  'date': Timestamp('2016-07-27 00:00:00'),\n",
       "  'ticker': 'B'},\n",
       " 8: {'col1': 0.17902964281000178,\n",
       "  'col2': 0.19317032433641224,\n",
       "  'date': Timestamp('2016-07-28 00:00:00'),\n",
       "  'ticker': 'B'},\n",
       " 9: {'col1': 0.5333365991465155,\n",
       "  'col2': 0.1105334537611099,\n",
       "  'date': Timestamp('2016-07-29 00:00:00'),\n",
       "  'ticker': 'B'}}"
      ]
     },
     "execution_count": 263,
     "metadata": {},
     "output_type": "execute_result"
    }
   ],
   "source": [
    "# dataframe to dict by row\n",
    "df_t.T.to_dict()"
   ]
  }
 ],
 "metadata": {
  "kernelspec": {
   "display_name": "Python 2",
   "language": "python",
   "name": "python2"
  },
  "language_info": {
   "codemirror_mode": {
    "name": "ipython",
    "version": 2
   },
   "file_extension": ".py",
   "mimetype": "text/x-python",
   "name": "python",
   "nbconvert_exporter": "python",
   "pygments_lexer": "ipython2",
   "version": "2.7.13"
  }
 },
 "nbformat": 4,
 "nbformat_minor": 2
}
